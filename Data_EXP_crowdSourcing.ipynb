{
 "cells": [
  {
   "cell_type": "code",
   "execution_count": 8,
   "metadata": {
    "collapsed": false
   },
   "outputs": [],
   "source": [
    "# Import the relevant libraries\n",
    "from __future__ import division\n",
    "import pandas as pd\n",
    "import json\n",
    "import time\n",
    "from datetime import datetime, timedelta\n",
    "import os\n",
    "import folium\n",
    "import csv"
   ]
  },
  {
   "cell_type": "code",
   "execution_count": 31,
   "metadata": {
    "collapsed": false
   },
   "outputs": [],
   "source": [
    "# working on a one file data\n",
    "folder=\"./data/crowdsource-internal/\"\n",
    "\n",
    "# msisdn ='6588769918'\n",
    "log1 ='6598194630_20170213_010123.log'#for exploring only\n",
    "\n",
    "log2 ='6588769918_20170210_220100.log'\n"
   ]
  },
  {
   "cell_type": "code",
   "execution_count": 32,
   "metadata": {
    "collapsed": false
   },
   "outputs": [],
   "source": [
    "f = open(os.path.join(folder,log1))\n",
    "data1=json.load(f)\n",
    "f.close()"
   ]
  },
  {
   "cell_type": "code",
   "execution_count": 11,
   "metadata": {
    "collapsed": false
   },
   "outputs": [],
   "source": [
    "f = open(os.path.join(folder,log2))\n",
    "data2=json.load(f)\n",
    "f.close()"
   ]
  },
  {
   "cell_type": "code",
   "execution_count": 72,
   "metadata": {
    "collapsed": false
   },
   "outputs": [
    {
     "name": "stdout",
     "output_type": "stream",
     "text": [
      "[u'msisdn', u'locations', u'appver', u'osver', u'model', u'trips', u'manufacturer']\n",
      "[u'msisdn', u'appver', u'osver', u'model', u'trips', u'manufacturer']\n",
      "[u'osver', u'model', u'trips', u'manufacturer']\n"
     ]
    },
    {
     "data": {
      "text/plain": [
       "False"
      ]
     },
     "execution_count": 72,
     "metadata": {},
     "output_type": "execute_result"
    }
   ],
   "source": [
    "data_key =data1.keys()\n",
    "print data_key\n",
    "\n",
    "data_key.remove('locations')\n",
    "\n",
    "print data_key\n",
    "\n",
    "meta_data = data_key[2:]\n",
    "print meta_data\n",
    "\n",
    "set(meta_data) in set(data_key)"
   ]
  },
  {
   "cell_type": "code",
   "execution_count": 53,
   "metadata": {
    "collapsed": false
   },
   "outputs": [
    {
     "data": {
      "text/plain": [
       "u'5.0.1'"
      ]
     },
     "execution_count": 53,
     "metadata": {},
     "output_type": "execute_result"
    }
   ],
   "source": [
    "data1['osver']"
   ]
  },
  {
   "cell_type": "code",
   "execution_count": 35,
   "metadata": {
    "collapsed": false
   },
   "outputs": [
    {
     "data": {
      "text/plain": [
       "[{u'acc': u'14.142',\n",
       "  u'cid': u'244622337',\n",
       "  u'lat': u'1.2987251',\n",
       "  u'lon': u'103.8463769',\n",
       "  u'ts': u'1486945334232'},\n",
       " {u'acc': u'116.1',\n",
       "  u'cid': u'244622337',\n",
       "  u'lat': u'1.4671031',\n",
       "  u'lon': u'103.7686717',\n",
       "  u'ts': u'1486945370999'}]"
      ]
     },
     "execution_count": 35,
     "metadata": {},
     "output_type": "execute_result"
    }
   ],
   "source": [
    "data1['locations'][:2]"
   ]
  },
  {
   "cell_type": "code",
   "execution_count": 15,
   "metadata": {
    "collapsed": false
   },
   "outputs": [],
   "source": [
    "# Preprosessing the epoch time\n",
    "def convert_epoch_time(t):\n",
    "    # Convert epoch time to utc time\n",
    "    # PARAMS: t is the epoch time either in seconds or milliseconds. Type : str\n",
    "    # Output : t in datetime.datetime format\n",
    "\n",
    "\n",
    "    if len(t)> 12: # t is in milliseconds\n",
    "        date_time = time.gmtime(int(t)/1000)\n",
    "    else:\n",
    "        date_time = time.gmtime(int(t))\n",
    "        \n",
    "    # convert to datetime.datetime format\n",
    "    return datetime(*date_time[:6])\n",
    "    \n",
    "\n"
   ]
  },
  {
   "cell_type": "code",
   "execution_count": 16,
   "metadata": {
    "collapsed": false
   },
   "outputs": [
    {
     "name": "stdout",
     "output_type": "stream",
     "text": [
      "2017-02-10 20:00:02\n"
     ]
    }
   ],
   "source": [
    "# Testing to convert epoch time\n",
    "x='1486756802106' #in milliseconds\n",
    "\n",
    "print convert_epoch_time(x)\n"
   ]
  },
  {
   "cell_type": "code",
   "execution_count": 17,
   "metadata": {
    "collapsed": false
   },
   "outputs": [],
   "source": [
    "df = pd.DataFrame()"
   ]
  },
  {
   "cell_type": "code",
   "execution_count": 51,
   "metadata": {
    "collapsed": false,
    "scrolled": true
   },
   "outputs": [
    {
     "data": {
      "text/html": [
       "<div>\n",
       "<table border=\"1\" class=\"dataframe\">\n",
       "  <thead>\n",
       "    <tr style=\"text-align: right;\">\n",
       "      <th></th>\n",
       "      <th>acc</th>\n",
       "      <th>cid</th>\n",
       "      <th>lat</th>\n",
       "      <th>lon</th>\n",
       "    </tr>\n",
       "  </thead>\n",
       "  <tbody>\n",
       "    <tr>\n",
       "      <th>2017-02-13 00:22:14</th>\n",
       "      <td>14.142</td>\n",
       "      <td>244622337</td>\n",
       "      <td>1.2987251</td>\n",
       "      <td>103.8463769</td>\n",
       "    </tr>\n",
       "    <tr>\n",
       "      <th>2017-02-13 00:22:50</th>\n",
       "      <td>116.1</td>\n",
       "      <td>244622337</td>\n",
       "      <td>1.4671031</td>\n",
       "      <td>103.7686717</td>\n",
       "    </tr>\n",
       "    <tr>\n",
       "      <th>2017-02-13 00:22:56</th>\n",
       "      <td>1299.999</td>\n",
       "      <td>244622337</td>\n",
       "      <td>1.2950771</td>\n",
       "      <td>103.8453569</td>\n",
       "    </tr>\n",
       "    <tr>\n",
       "      <th>2017-02-13 00:23:45</th>\n",
       "      <td>68.4</td>\n",
       "      <td>244622337</td>\n",
       "      <td>1.3006329</td>\n",
       "      <td>103.839338</td>\n",
       "    </tr>\n",
       "    <tr>\n",
       "      <th>2017-02-13 00:23:55</th>\n",
       "      <td>38.79</td>\n",
       "      <td>244622337</td>\n",
       "      <td>1.3005276</td>\n",
       "      <td>103.8393826</td>\n",
       "    </tr>\n",
       "  </tbody>\n",
       "</table>\n",
       "</div>"
      ],
      "text/plain": [
       "                          acc        cid        lat          lon\n",
       "2017-02-13 00:22:14    14.142  244622337  1.2987251  103.8463769\n",
       "2017-02-13 00:22:50     116.1  244622337  1.4671031  103.7686717\n",
       "2017-02-13 00:22:56  1299.999  244622337  1.2950771  103.8453569\n",
       "2017-02-13 00:23:45      68.4  244622337  1.3006329   103.839338\n",
       "2017-02-13 00:23:55     38.79  244622337  1.3005276  103.8393826"
      ]
     },
     "execution_count": 51,
     "metadata": {},
     "output_type": "execute_result"
    }
   ],
   "source": [
    "df_details1 = pd.DataFrame.from_records(data1['locations'],index='ts')\n",
    "#print df_details[:4]\n",
    "# Convert the index of the dataframe to datetime.datetime format\n",
    "\n",
    "df_details1.index = df_details1.index.map(convert_epoch_time)\n",
    "\n",
    "df_details1[:5]\n",
    "\n"
   ]
  },
  {
   "cell_type": "code",
   "execution_count": 66,
   "metadata": {
    "collapsed": false
   },
   "outputs": [],
   "source": [
    "#Produce the dict for the other relevant metadata\n",
    "metadata_dict={}\n",
    "for x in meta_data:\n",
    "#     print x\n",
    "#     print data1[x]\n",
    "#     print \"-\"*20\n",
    "    df_details1[x] = str(data1[x])\n",
    "    \n",
    "\n",
    "    "
   ]
  },
  {
   "cell_type": "code",
   "execution_count": 67,
   "metadata": {
    "collapsed": false
   },
   "outputs": [
    {
     "data": {
      "text/html": [
       "<div>\n",
       "<table border=\"1\" class=\"dataframe\">\n",
       "  <thead>\n",
       "    <tr style=\"text-align: right;\">\n",
       "      <th></th>\n",
       "      <th>acc</th>\n",
       "      <th>cid</th>\n",
       "      <th>lat</th>\n",
       "      <th>lon</th>\n",
       "      <th>appver</th>\n",
       "      <th>osver</th>\n",
       "      <th>model</th>\n",
       "      <th>trips</th>\n",
       "      <th>manufacturer</th>\n",
       "    </tr>\n",
       "  </thead>\n",
       "  <tbody>\n",
       "    <tr>\n",
       "      <th>2017-02-13 00:22:14</th>\n",
       "      <td>14.142</td>\n",
       "      <td>244622337</td>\n",
       "      <td>1.2987251</td>\n",
       "      <td>103.8463769</td>\n",
       "      <td>1.0</td>\n",
       "      <td>5.0.1</td>\n",
       "      <td>GT-I9506</td>\n",
       "      <td>[]</td>\n",
       "      <td>samsung</td>\n",
       "    </tr>\n",
       "    <tr>\n",
       "      <th>2017-02-13 00:22:50</th>\n",
       "      <td>116.1</td>\n",
       "      <td>244622337</td>\n",
       "      <td>1.4671031</td>\n",
       "      <td>103.7686717</td>\n",
       "      <td>1.0</td>\n",
       "      <td>5.0.1</td>\n",
       "      <td>GT-I9506</td>\n",
       "      <td>[]</td>\n",
       "      <td>samsung</td>\n",
       "    </tr>\n",
       "    <tr>\n",
       "      <th>2017-02-13 00:22:56</th>\n",
       "      <td>1299.999</td>\n",
       "      <td>244622337</td>\n",
       "      <td>1.2950771</td>\n",
       "      <td>103.8453569</td>\n",
       "      <td>1.0</td>\n",
       "      <td>5.0.1</td>\n",
       "      <td>GT-I9506</td>\n",
       "      <td>[]</td>\n",
       "      <td>samsung</td>\n",
       "    </tr>\n",
       "    <tr>\n",
       "      <th>2017-02-13 00:23:45</th>\n",
       "      <td>68.4</td>\n",
       "      <td>244622337</td>\n",
       "      <td>1.3006329</td>\n",
       "      <td>103.839338</td>\n",
       "      <td>1.0</td>\n",
       "      <td>5.0.1</td>\n",
       "      <td>GT-I9506</td>\n",
       "      <td>[]</td>\n",
       "      <td>samsung</td>\n",
       "    </tr>\n",
       "    <tr>\n",
       "      <th>2017-02-13 00:23:55</th>\n",
       "      <td>38.79</td>\n",
       "      <td>244622337</td>\n",
       "      <td>1.3005276</td>\n",
       "      <td>103.8393826</td>\n",
       "      <td>1.0</td>\n",
       "      <td>5.0.1</td>\n",
       "      <td>GT-I9506</td>\n",
       "      <td>[]</td>\n",
       "      <td>samsung</td>\n",
       "    </tr>\n",
       "  </tbody>\n",
       "</table>\n",
       "</div>"
      ],
      "text/plain": [
       "                          acc        cid        lat          lon appver  \\\n",
       "2017-02-13 00:22:14    14.142  244622337  1.2987251  103.8463769    1.0   \n",
       "2017-02-13 00:22:50     116.1  244622337  1.4671031  103.7686717    1.0   \n",
       "2017-02-13 00:22:56  1299.999  244622337  1.2950771  103.8453569    1.0   \n",
       "2017-02-13 00:23:45      68.4  244622337  1.3006329   103.839338    1.0   \n",
       "2017-02-13 00:23:55     38.79  244622337  1.3005276  103.8393826    1.0   \n",
       "\n",
       "                     osver     model trips manufacturer  \n",
       "2017-02-13 00:22:14  5.0.1  GT-I9506    []      samsung  \n",
       "2017-02-13 00:22:50  5.0.1  GT-I9506    []      samsung  \n",
       "2017-02-13 00:22:56  5.0.1  GT-I9506    []      samsung  \n",
       "2017-02-13 00:23:45  5.0.1  GT-I9506    []      samsung  \n",
       "2017-02-13 00:23:55  5.0.1  GT-I9506    []      samsung  "
      ]
     },
     "execution_count": 67,
     "metadata": {},
     "output_type": "execute_result"
    }
   ],
   "source": [
    "df_details1[:5]"
   ]
  },
  {
   "cell_type": "code",
   "execution_count": 68,
   "metadata": {
    "collapsed": false
   },
   "outputs": [],
   "source": [
    "# Insert the columns for the other meta_data\n",
    "meta_ser = pd.Series(metadata_dict)\n",
    "\n",
    "df_sample[\"appver\"] =1.0\n"
   ]
  },
  {
   "cell_type": "code",
   "execution_count": 19,
   "metadata": {
    "collapsed": false
   },
   "outputs": [
    {
     "data": {
      "text/html": [
       "<div>\n",
       "<table border=\"1\" class=\"dataframe\">\n",
       "  <thead>\n",
       "    <tr style=\"text-align: right;\">\n",
       "      <th></th>\n",
       "      <th>acc</th>\n",
       "      <th>cid</th>\n",
       "      <th>lat</th>\n",
       "      <th>lon</th>\n",
       "      <th>signal</th>\n",
       "    </tr>\n",
       "  </thead>\n",
       "  <tbody>\n",
       "    <tr>\n",
       "      <th>2017-02-10 20:00:02</th>\n",
       "      <td>22.817</td>\n",
       "      <td>20483393</td>\n",
       "      <td>1.4042991</td>\n",
       "      <td>103.9053817</td>\n",
       "      <td>-93</td>\n",
       "    </tr>\n",
       "    <tr>\n",
       "      <th>2017-02-10 20:00:05</th>\n",
       "      <td>46.0</td>\n",
       "      <td>20483393</td>\n",
       "      <td>1.4041914</td>\n",
       "      <td>103.9054802</td>\n",
       "      <td>-93</td>\n",
       "    </tr>\n",
       "    <tr>\n",
       "      <th>2017-02-10 20:00:22</th>\n",
       "      <td>22.824</td>\n",
       "      <td>20483393</td>\n",
       "      <td>1.4042991</td>\n",
       "      <td>103.9053817</td>\n",
       "      <td>-93</td>\n",
       "    </tr>\n",
       "    <tr>\n",
       "      <th>2017-02-10 20:00:24</th>\n",
       "      <td>30.0</td>\n",
       "      <td>20483393</td>\n",
       "      <td>1.4041913</td>\n",
       "      <td>103.90548</td>\n",
       "      <td>-93</td>\n",
       "    </tr>\n",
       "    <tr>\n",
       "      <th>2017-02-10 20:00:42</th>\n",
       "      <td>22.84</td>\n",
       "      <td>20483393</td>\n",
       "      <td>1.4042991</td>\n",
       "      <td>103.9053817</td>\n",
       "      <td>-93</td>\n",
       "    </tr>\n",
       "  </tbody>\n",
       "</table>\n",
       "</div>"
      ],
      "text/plain": [
       "                        acc       cid        lat          lon signal\n",
       "2017-02-10 20:00:02  22.817  20483393  1.4042991  103.9053817    -93\n",
       "2017-02-10 20:00:05    46.0  20483393  1.4041914  103.9054802    -93\n",
       "2017-02-10 20:00:22  22.824  20483393  1.4042991  103.9053817    -93\n",
       "2017-02-10 20:00:24    30.0  20483393  1.4041913    103.90548    -93\n",
       "2017-02-10 20:00:42   22.84  20483393  1.4042991  103.9053817    -93"
      ]
     },
     "execution_count": 19,
     "metadata": {},
     "output_type": "execute_result"
    }
   ],
   "source": [
    "# combine the two frames\n",
    "df = df.append(df_details1)\n",
    "df[:5]"
   ]
  },
  {
   "cell_type": "code",
   "execution_count": 20,
   "metadata": {
    "collapsed": true
   },
   "outputs": [],
   "source": [
    "# add the other columns to the dataframe\n"
   ]
  },
  {
   "cell_type": "code",
   "execution_count": 21,
   "metadata": {
    "collapsed": false
   },
   "outputs": [
    {
     "data": {
      "text/html": [
       "<div>\n",
       "<table border=\"1\" class=\"dataframe\">\n",
       "  <thead>\n",
       "    <tr style=\"text-align: right;\">\n",
       "      <th></th>\n",
       "      <th>acc</th>\n",
       "      <th>cid</th>\n",
       "      <th>lat</th>\n",
       "      <th>lon</th>\n",
       "      <th>signal</th>\n",
       "    </tr>\n",
       "  </thead>\n",
       "  <tbody>\n",
       "    <tr>\n",
       "      <th>2017-02-10 21:00:05</th>\n",
       "      <td>22.816</td>\n",
       "      <td>20483393</td>\n",
       "      <td>1.4042991</td>\n",
       "      <td>103.9053817</td>\n",
       "      <td>-93</td>\n",
       "    </tr>\n",
       "    <tr>\n",
       "      <th>2017-02-10 21:00:15</th>\n",
       "      <td>58.0</td>\n",
       "      <td>20483393</td>\n",
       "      <td>1.4040958</td>\n",
       "      <td>103.9055678</td>\n",
       "      <td>-93</td>\n",
       "    </tr>\n",
       "    <tr>\n",
       "      <th>2017-02-10 21:00:19</th>\n",
       "      <td>22.821</td>\n",
       "      <td>20483393</td>\n",
       "      <td>1.4042991</td>\n",
       "      <td>103.9053817</td>\n",
       "      <td>-93</td>\n",
       "    </tr>\n",
       "    <tr>\n",
       "      <th>2017-02-10 21:00:32</th>\n",
       "      <td>63.0</td>\n",
       "      <td>20483393</td>\n",
       "      <td>1.4040994</td>\n",
       "      <td>103.9055713</td>\n",
       "      <td>-93</td>\n",
       "    </tr>\n",
       "    <tr>\n",
       "      <th>2017-02-10 21:00:35</th>\n",
       "      <td>22.823</td>\n",
       "      <td>20483393</td>\n",
       "      <td>1.4042991</td>\n",
       "      <td>103.9053817</td>\n",
       "      <td>-93</td>\n",
       "    </tr>\n",
       "  </tbody>\n",
       "</table>\n",
       "</div>"
      ],
      "text/plain": [
       "                        acc       cid        lat          lon signal\n",
       "2017-02-10 21:00:05  22.816  20483393  1.4042991  103.9053817    -93\n",
       "2017-02-10 21:00:15    58.0  20483393  1.4040958  103.9055678    -93\n",
       "2017-02-10 21:00:19  22.821  20483393  1.4042991  103.9053817    -93\n",
       "2017-02-10 21:00:32    63.0  20483393  1.4040994  103.9055713    -93\n",
       "2017-02-10 21:00:35  22.823  20483393  1.4042991  103.9053817    -93"
      ]
     },
     "execution_count": 21,
     "metadata": {},
     "output_type": "execute_result"
    }
   ],
   "source": [
    "df_details2 = pd.DataFrame.from_records(data2['locations'],index='ts')\n",
    "#print df_details[:4]\n",
    "# Convert the index of the dataframe to datetime.datetime format\n",
    "\n",
    "df_details2.index = df_details2.index.map(convert_epoch_time)\n",
    "\n",
    "df_details2[:5]"
   ]
  },
  {
   "cell_type": "code",
   "execution_count": 22,
   "metadata": {
    "collapsed": false
   },
   "outputs": [
    {
     "data": {
      "text/html": [
       "<div>\n",
       "<table border=\"1\" class=\"dataframe\">\n",
       "  <thead>\n",
       "    <tr style=\"text-align: right;\">\n",
       "      <th></th>\n",
       "      <th>acc</th>\n",
       "      <th>cid</th>\n",
       "      <th>lat</th>\n",
       "      <th>lon</th>\n",
       "      <th>signal</th>\n",
       "    </tr>\n",
       "  </thead>\n",
       "  <tbody>\n",
       "    <tr>\n",
       "      <th>2017-02-10 20:00:02</th>\n",
       "      <td>22.817</td>\n",
       "      <td>20483393</td>\n",
       "      <td>1.4042991</td>\n",
       "      <td>103.9053817</td>\n",
       "      <td>-93</td>\n",
       "    </tr>\n",
       "    <tr>\n",
       "      <th>2017-02-10 20:00:05</th>\n",
       "      <td>46.0</td>\n",
       "      <td>20483393</td>\n",
       "      <td>1.4041914</td>\n",
       "      <td>103.9054802</td>\n",
       "      <td>-93</td>\n",
       "    </tr>\n",
       "    <tr>\n",
       "      <th>2017-02-10 20:00:22</th>\n",
       "      <td>22.824</td>\n",
       "      <td>20483393</td>\n",
       "      <td>1.4042991</td>\n",
       "      <td>103.9053817</td>\n",
       "      <td>-93</td>\n",
       "    </tr>\n",
       "    <tr>\n",
       "      <th>2017-02-10 20:00:24</th>\n",
       "      <td>30.0</td>\n",
       "      <td>20483393</td>\n",
       "      <td>1.4041913</td>\n",
       "      <td>103.90548</td>\n",
       "      <td>-93</td>\n",
       "    </tr>\n",
       "    <tr>\n",
       "      <th>2017-02-10 20:00:42</th>\n",
       "      <td>22.84</td>\n",
       "      <td>20483393</td>\n",
       "      <td>1.4042991</td>\n",
       "      <td>103.9053817</td>\n",
       "      <td>-93</td>\n",
       "    </tr>\n",
       "  </tbody>\n",
       "</table>\n",
       "</div>"
      ],
      "text/plain": [
       "                        acc       cid        lat          lon signal\n",
       "2017-02-10 20:00:02  22.817  20483393  1.4042991  103.9053817    -93\n",
       "2017-02-10 20:00:05    46.0  20483393  1.4041914  103.9054802    -93\n",
       "2017-02-10 20:00:22  22.824  20483393  1.4042991  103.9053817    -93\n",
       "2017-02-10 20:00:24    30.0  20483393  1.4041913    103.90548    -93\n",
       "2017-02-10 20:00:42   22.84  20483393  1.4042991  103.9053817    -93"
      ]
     },
     "execution_count": 22,
     "metadata": {},
     "output_type": "execute_result"
    }
   ],
   "source": [
    "#combine both the dataframes\n",
    "df  = df.append(df_details2)\n",
    "\n",
    "df[:5]"
   ]
  },
  {
   "cell_type": "code",
   "execution_count": 37,
   "metadata": {
    "collapsed": false
   },
   "outputs": [
    {
     "name": "stdout",
     "output_type": "stream",
     "text": [
      "appver\n",
      "1.0\n",
      "_______\n",
      "osver\n",
      "5.0.1\n",
      "_______\n",
      "model\n",
      "GT-I9506\n",
      "_______\n",
      "trips\n",
      "[]\n",
      "_______\n",
      "manufacturer\n",
      "samsung\n",
      "_______\n"
     ]
    }
   ],
   "source": [
    "for x in data_key[2:]:\n",
    "    print x\n",
    "    print data1[x]\n",
    "    print '_______'"
   ]
  },
  {
   "cell_type": "code",
   "execution_count": 24,
   "metadata": {
    "collapsed": false
   },
   "outputs": [],
   "source": [
    "folder ='./data/crowdsource-internal/'\n",
    "files = os.listdir(folder)\n",
    "files = [x for x in files if x.endswith('.log')]"
   ]
  },
  {
   "cell_type": "code",
   "execution_count": 73,
   "metadata": {
    "collapsed": true
   },
   "outputs": [],
   "source": [
    "x=['6598282016', '6598636442']\n",
    "y=['6596642145', '65111111', '650000000000009', '6591390516', '65999', '6591378121', '6596480975', '6596309066', '6598194630', '6591148900', '6598282016', '650544249111', '6598636442', '6594515139', '6581817105', '6590176722', '65123', '6588769918']"
   ]
  },
  {
   "cell_type": "code",
   "execution_count": 79,
   "metadata": {
    "collapsed": false
   },
   "outputs": [
    {
     "data": {
      "text/plain": [
       "True"
      ]
     },
     "execution_count": 79,
     "metadata": {},
     "output_type": "execute_result"
    }
   ],
   "source": [
    "set(x).issubset(y)"
   ]
  },
  {
   "cell_type": "code",
   "execution_count": null,
   "metadata": {
    "collapsed": true
   },
   "outputs": [],
   "source": []
  }
 ],
 "metadata": {
  "kernelspec": {
   "display_name": "Python 2",
   "language": "python",
   "name": "python2"
  },
  "language_info": {
   "codemirror_mode": {
    "name": "ipython",
    "version": 2
   },
   "file_extension": ".py",
   "mimetype": "text/x-python",
   "name": "python",
   "nbconvert_exporter": "python",
   "pygments_lexer": "ipython2",
   "version": "2.7.13"
  }
 },
 "nbformat": 4,
 "nbformat_minor": 2
}
